{
 "cells": [
  {
   "cell_type": "markdown",
   "id": "b8210b19",
   "metadata": {},
   "source": [
    "## A.I. Assignment 5\n",
    "\n",
    "## Learning Goals\n",
    "\n",
    "By the end of this lab, you should be able to:\n",
    "* Get more familiar with tensors in pytorch \n",
    "* Create a simple multilayer perceptron model with pytorch\n",
    "* Visualise the parameters\n",
    "\n",
    "\n",
    "### Task\n",
    "\n",
    "Build a fully connected feed forward network that adds two bits. Determine the a propper achitecture for this network (what database you use for this problem? how many layers? how many neurons on each layer? what is the activation function? what is the loss function? etc)\n",
    "\n",
    "Create at least 3 such networks and compare their performance (how accurate they are?, how farst they are trained to get at 1 accuracy?)\n",
    "\n",
    "Display for the best one the weights for each layer.\n"
   ]
  },
  {
   "cell_type": "code",
   "execution_count": 2,
   "id": "e3614e5f",
   "metadata": {},
   "outputs": [],
   "source": [
    "import torch\n",
    "import torch.nn as nn\n",
    "from collections import OrderedDict\n"
   ]
  },
  {
   "cell_type": "code",
   "execution_count": 3,
   "id": "5ee7e7d7",
   "metadata": {},
   "outputs": [],
   "source": [
    "# your code here\n",
    "#model1 = nn.Sequential(OrderedDict([\n",
    "#    ('hidden', nn.\n",
    "#]))\n",
    "\n",
    "model = nn.Sequential(OrderedDict([\n",
    "    ('fc1', nn.Linear(2, 4)),\n",
    "    ('relu1', nn.ReLU()),\n",
    "    ('fc2', nn.Linear(4, 2)),\n",
    "    ('sigmoid', nn.Sigmoid())\n",
    "]))"
   ]
  },
  {
   "cell_type": "code",
   "execution_count": 4,
   "id": "665ae958",
   "metadata": {},
   "outputs": [
    {
     "name": "stdout",
     "output_type": "stream",
     "text": [
      "Sequential(\n",
      "  (fc1): Linear(in_features=2, out_features=4, bias=True)\n",
      "  (relu1): ReLU()\n",
      "  (fc2): Linear(in_features=4, out_features=2, bias=True)\n",
      "  (sigmoid): Sigmoid()\n",
      ")\n"
     ]
    }
   ],
   "source": [
    "print(model)"
   ]
  },
  {
   "cell_type": "code",
   "execution_count": 6,
   "id": "e26f0d3e",
   "metadata": {},
   "outputs": [
    {
     "name": "stdout",
     "output_type": "stream",
     "text": [
      "tensor([[0., 0.],\n",
      "        [0., 1.],\n",
      "        [1., 0.],\n",
      "        [1., 1.]])\n"
     ]
    }
   ],
   "source": [
    "# your code here\n",
    "#data_in = torch.tensor( ...\n",
    "data_in = torch.tensor([[0,0], [0,1], [1,0], [1,1]], dtype=torch.float)\n",
    "print(data_in)"
   ]
  },
  {
   "cell_type": "code",
   "execution_count": 10,
   "id": "4fb16bbc",
   "metadata": {},
   "outputs": [
    {
     "name": "stdout",
     "output_type": "stream",
     "text": [
      "tensor([[0., 0.],\n",
      "        [0., 1.],\n",
      "        [0., 1.],\n",
      "        [1., 0.]])\n"
     ]
    }
   ],
   "source": [
    "# your code here\n",
    "# data_target = torch.tensor( ...\n",
    "data_target = torch.tensor([0, 0, 0, 1, 0, 1, 1, 0], dtype=torch.float).reshape(-1,2)\n",
    "print(data_target)"
   ]
  },
  {
   "cell_type": "code",
   "execution_count": 8,
   "id": "69d920ed",
   "metadata": {},
   "outputs": [],
   "source": [
    "# your code here\n",
    "# criterion = \n",
    "# optimizer = \n",
    "criterion = nn.MSELoss()\n",
    "optimizer = torch.optim.SGD(model.parameters(), lr=0.1)"
   ]
  },
  {
   "cell_type": "code",
   "execution_count": 14,
   "id": "cde91f6f",
   "metadata": {},
   "outputs": [
    {
     "name": "stdout",
     "output_type": "stream",
     "text": [
      "Epoch [1000/10000], Loss: 0.1770\n",
      "Epoch [2000/10000], Loss: 0.1681\n",
      "Epoch [3000/10000], Loss: 0.1669\n",
      "Epoch [4000/10000], Loss: 0.1660\n",
      "Epoch [5000/10000], Loss: 0.1648\n",
      "Epoch [6000/10000], Loss: 0.1631\n",
      "Epoch [7000/10000], Loss: 0.1616\n",
      "Epoch [8000/10000], Loss: 0.1603\n",
      "Epoch [9000/10000], Loss: 0.1593\n",
      "Epoch [10000/10000], Loss: 0.1584\n"
     ]
    }
   ],
   "source": [
    "# your code here\n",
    "# Train the model\n",
    "for epoch in range(10000):\n",
    "    # Forward pass\n",
    "    outputs = model(data_in)\n",
    "    loss = criterion(outputs, data_target)\n",
    "    \n",
    "    # Backward and optimize\n",
    "    optimizer.zero_grad()\n",
    "    loss.backward()\n",
    "    optimizer.step()\n",
    "\n",
    "    if (epoch+1) % 1000 == 0:\n",
    "        print(f'Epoch [{epoch+1}/10000], Loss: {loss.item():.4f}')"
   ]
  },
  {
   "cell_type": "code",
   "execution_count": 21,
   "id": "dff3ec1a",
   "metadata": {},
   "outputs": [
    {
     "name": "stdout",
     "output_type": "stream",
     "text": [
      "Accuracy: 0.75\n"
     ]
    }
   ],
   "source": [
    "# your code here\n",
    "# visualize the resuts\n",
    "\n",
    "\n",
    "with torch.no_grad():\n",
    "    predicted = model(data_in).round()\n",
    "    accuracy = (predicted == data_target).float().mean()\n",
    "    print(f'Accuracy: {accuracy:.2f}')"
   ]
  },
  {
   "cell_type": "code",
   "execution_count": 20,
   "id": "c1a7518b",
   "metadata": {},
   "outputs": [
    {
     "name": "stdout",
     "output_type": "stream",
     "text": [
      "hidden.weight tensor([[ 3.4278,  3.1914],\n",
      "        [-2.5400,  1.4946],\n",
      "        [ 0.5854,  0.8981],\n",
      "        [ 0.0327, -2.1724]])\n",
      "hidden.bias tensor([-0.6437, -1.1369, -0.3050,  0.6331])\n",
      "linear2.weight tensor([[ 2.8597,  1.9926, -1.9808,  1.9320]])\n",
      "linear2.bias tensor([-1.8903])\n"
     ]
    }
   ],
   "source": [
    "# your code here\n",
    "# print model wights\n",
    "\n",
    "for name, param in model.named_parameters():\n",
    "    if param.requires_grad:\n",
    "        print(name, param.data)"
   ]
  },
  {
   "cell_type": "code",
   "execution_count": 29,
   "id": "4cdf09ba",
   "metadata": {},
   "outputs": [
    {
     "name": "stdout",
     "output_type": "stream",
     "text": [
      "Epoch [1000/10000], Loss: 0.1166\n",
      "Epoch [2000/10000], Loss: 0.0444\n",
      "Epoch [3000/10000], Loss: 0.0164\n",
      "Epoch [4000/10000], Loss: 0.0070\n",
      "Epoch [5000/10000], Loss: 0.0043\n",
      "Epoch [6000/10000], Loss: 0.0031\n",
      "Epoch [7000/10000], Loss: 0.0024\n",
      "Epoch [8000/10000], Loss: 0.0020\n",
      "Epoch [9000/10000], Loss: 0.0017\n",
      "Epoch [10000/10000], Loss: 0.0014\n",
      "Accuracy: 1.00\n",
      "Model weights:\n",
      "fc1.weight tensor([[ 3.3856, -3.3857],\n",
      "        [ 0.8751,  1.9669],\n",
      "        [ 3.2216, -0.8355]])\n",
      "fc1.bias tensor([-2.2903e-05, -1.2263e-04,  8.3564e-01])\n",
      "fc2.weight tensor([[-2.4585,  0.5739,  1.8815],\n",
      "        [ 4.0560,  1.9777, -2.7763]])\n",
      "fc2.bias tensor([-4.3509, -0.5147])\n"
     ]
    }
   ],
   "source": [
    "import torch\n",
    "import torch.nn as nn\n",
    "from collections import OrderedDict\n",
    "\n",
    "# Define the input and output data\n",
    "data_in = torch.tensor([[0,0], [0,1], [1,0], [1,1]], dtype=torch.float)\n",
    "data_target = torch.tensor([0, 0, 0, 1, 0, 1, 1, 0], dtype=torch.float).reshape(-1,2)\n",
    "\n",
    "# Define the neural network model using OrderedDict\n",
    "model = nn.Sequential(OrderedDict([\n",
    "    ('fc1', nn.Linear(2, 3)),\n",
    "    ('ReLU', nn.ReLU()), \n",
    "    ('fc2', nn.Linear(3, 2)),\n",
    "    ('sigmoid', nn.Sigmoid())\n",
    "]))\n",
    "\n",
    "# Define the loss function and optimizer\n",
    "criterion = nn.MSELoss()\n",
    "optimizer = torch.optim.SGD(model.parameters(), lr=0.1)\n",
    "\n",
    "# Train the model\n",
    "for epoch in range(10000):\n",
    "    # Forward pass\n",
    "    outputs = model(data_in)\n",
    "    loss = criterion(outputs, data_target)\n",
    "    \n",
    "    # Backward and optimize\n",
    "    optimizer.zero_grad()\n",
    "    loss.backward()\n",
    "    optimizer.step()\n",
    "\n",
    "    if (epoch+1) % 1000 == 0:\n",
    "        print(f'Epoch [{epoch+1}/10000], Loss: {loss.item():.4f}')\n",
    "\n",
    "# Test the model\n",
    "with torch.no_grad():\n",
    "    predicted = model(data_in).round()\n",
    "    accuracy = (predicted == data_target).float().mean()\n",
    "    print(f'Accuracy: {accuracy:.2f}')\n",
    "    \n",
    "print(f'Model weights:')\n",
    "\n",
    "for name, param in model.named_parameters():\n",
    "    if param.requires_grad:\n",
    "        print(name, param.data)"
   ]
  },
  {
   "cell_type": "code",
   "execution_count": 37,
   "id": "d0bea66c",
   "metadata": {},
   "outputs": [
    {
     "name": "stdout",
     "output_type": "stream",
     "text": [
      "Epoch [1000/10000], Loss: 0.1575\n",
      "Epoch [2000/10000], Loss: 0.1551\n",
      "Epoch [3000/10000], Loss: 0.1505\n",
      "Epoch [4000/10000], Loss: 0.1189\n",
      "Epoch [5000/10000], Loss: 0.0091\n",
      "Epoch [6000/10000], Loss: 0.0001\n",
      "Epoch [7000/10000], Loss: 0.0000\n",
      "Epoch [8000/10000], Loss: 0.0000\n",
      "Epoch [9000/10000], Loss: 0.0000\n",
      "Epoch [10000/10000], Loss: 0.0000\n",
      "Accuracy: 1.00\n",
      "Model weights\n",
      "hidden.weight tensor([[-2.0830,  1.4466],\n",
      "        [-2.9204, -2.4720],\n",
      "        [ 0.3957,  1.3054],\n",
      "        [-1.5232, -2.0558]])\n",
      "hidden.bias tensor([-1.2788,  0.4339, -1.3053,  2.8111])\n",
      "linear2.weight tensor([[-1.0533,  1.0212,  1.6421, -1.4164],\n",
      "        [ 1.1218, -3.0600, -1.1108,  2.0886]])\n",
      "linear2.bias tensor([ 0.5956, -0.1207])\n"
     ]
    }
   ],
   "source": [
    "import torch\n",
    "import torch.nn as nn\n",
    "from collections import OrderedDict\n",
    "\n",
    "# Define the input and output data\n",
    "data_in = torch.tensor([[0,0], [0,1], [1,0], [1,1]], dtype=torch.float)\n",
    "data_target = torch.tensor([0, 0, 0, 1, 0, 1, 1, 0], dtype=torch.float).reshape(-1,2)\n",
    "\n",
    "# Define the neural network model using OrderedDict\n",
    "model = nn.Sequential(OrderedDict([\n",
    "    ('hidden', nn.Linear(2, 4)),\n",
    "    ('sigmoid', nn.Sigmoid()), \n",
    "    ('ReLU', nn.ReLU()),\n",
    "    ('linear2', nn.Linear(4, 2)),\n",
    "]))\n",
    "\n",
    "# Define the loss function and optimizer\n",
    "criterion = nn.MSELoss()\n",
    "optimizer = torch.optim.SGD(model.parameters(), lr=0.1)\n",
    "\n",
    "# Train the model\n",
    "for epoch in range(10000):\n",
    "    # Forward pass\n",
    "    outputs = model(data_in)\n",
    "    loss = criterion(outputs, data_target)\n",
    "    \n",
    "    # Backward and optimize\n",
    "    optimizer.zero_grad()\n",
    "    loss.backward()\n",
    "    optimizer.step()\n",
    "\n",
    "    if (epoch+1) % 1000 == 0:\n",
    "        print(f'Epoch [{epoch+1}/10000], Loss: {loss.item():.4f}')\n",
    "\n",
    "# Test the model\n",
    "with torch.no_grad():\n",
    "    predicted = model(data_in).round()\n",
    "    accuracy = (predicted == data_target).float().mean()\n",
    "    print(f'Accuracy: {accuracy:.2f}')\n",
    "    \n",
    "print(f'Model weights')\n",
    "for name, param in model.named_parameters():\n",
    "    if param.requires_grad:\n",
    "        print(name, param.data)"
   ]
  },
  {
   "cell_type": "code",
   "execution_count": 34,
   "id": "e29c65a2",
   "metadata": {},
   "outputs": [
    {
     "name": "stdout",
     "output_type": "stream",
     "text": [
      "Epoch [1000/10000], Loss: 0.0971\n",
      "Epoch [2000/10000], Loss: 0.0874\n",
      "Epoch [3000/10000], Loss: 0.0855\n",
      "Epoch [4000/10000], Loss: 0.0848\n",
      "Epoch [5000/10000], Loss: 0.0844\n",
      "Epoch [6000/10000], Loss: 0.0842\n",
      "Epoch [7000/10000], Loss: 0.0841\n",
      "Epoch [8000/10000], Loss: 0.0839\n",
      "Epoch [9000/10000], Loss: 0.0839\n",
      "Epoch [10000/10000], Loss: 0.0838\n",
      "Accuracy: 1.00\n",
      "Model weights:\n",
      "fc1.weight tensor([[ 1.8869,  1.8841],\n",
      "        [ 0.1355, -0.6495],\n",
      "        [ 1.2757,  1.2730]])\n",
      "fc1.bias tensor([-1.8893, -0.1509, -1.2760])\n",
      "fc2.weight tensor([[ 2.7493, -0.3540,  1.5618],\n",
      "        [-1.6031, -0.5661, -1.4343]])\n",
      "fc2.bias tensor([-3.4224,  0.6915])\n"
     ]
    }
   ],
   "source": [
    "import torch\n",
    "import torch.nn as nn\n",
    "from collections import OrderedDict\n",
    "\n",
    "# Define the input and output data\n",
    "data_in = torch.tensor([[0,0], [0,1], [1,0], [1,1]], dtype=torch.float)\n",
    "data_target = torch.tensor([0, 0, 0, 1, 0, 1, 1, 0], dtype=torch.float).reshape(-1,2)\n",
    "\n",
    "# Define the neural network model using OrderedDict\n",
    "model = nn.Sequential(OrderedDict([\n",
    "    ('fc1', nn.Linear(2, 3)), \n",
    "    ('ReLU', nn.ReLU()), \n",
    "    ('fc2', nn.Linear(3, 2)),\n",
    "    ('sigmoid', nn.Sigmoid()) \n",
    "]))\n",
    "\n",
    "# Define the loss function and optimizer\n",
    "criterion = nn.MSELoss()\n",
    "optimizer = torch.optim.SGD(model.parameters(), lr=0.1)\n",
    "\n",
    "# Train the model\n",
    "for epoch in range(10000):\n",
    "    # Forward pass\n",
    "    outputs = model(data_in)\n",
    "    loss = criterion(outputs, data_target)\n",
    "    \n",
    "    # Backward and optimize\n",
    "    optimizer.zero_grad()\n",
    "    loss.backward()\n",
    "    optimizer.step()\n",
    "\n",
    "    if (epoch+1) % 1000 == 0:\n",
    "        print(f'Epoch [{epoch+1}/10000], Loss: {loss.item():.4f}')\n",
    "\n",
    "# Test the model\n",
    "with torch.no_grad():\n",
    "    predicted = model(data_in).round()\n",
    "    \n",
    "    print(f'Accuracy: {accuracy:.2f}')\n",
    "    \n",
    "print(f'Model weights:')\n",
    "\n",
    "for name, param in model.named_parameters():\n",
    "    if param.requires_grad:\n",
    "        print(name, param.data)"
   ]
  },
  {
   "cell_type": "code",
   "execution_count": null,
   "id": "6e5dbeca",
   "metadata": {},
   "outputs": [],
   "source": []
  }
 ],
 "metadata": {
  "kernelspec": {
   "display_name": "Python 3 (ipykernel)",
   "language": "python",
   "name": "python3"
  },
  "language_info": {
   "codemirror_mode": {
    "name": "ipython",
    "version": 3
   },
   "file_extension": ".py",
   "mimetype": "text/x-python",
   "name": "python",
   "nbconvert_exporter": "python",
   "pygments_lexer": "ipython3",
   "version": "3.9.13"
  }
 },
 "nbformat": 4,
 "nbformat_minor": 5
}
