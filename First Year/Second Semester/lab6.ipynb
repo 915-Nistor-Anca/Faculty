x = numerical_approx(25^(1/8))
x